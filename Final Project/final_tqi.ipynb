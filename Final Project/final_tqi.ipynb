{
 "cells": [
  {
   "cell_type": "code",
   "execution_count": 1,
   "metadata": {
    "collapsed": false
   },
   "outputs": [],
   "source": [
    "import os\n",
    "import sys\n",
    "import numpy as np\n",
    "import pandas as pd\n",
    "import matplotlib.pyplot as pl\n",
    "from sklearn.linear_model import LinearRegression\n",
    "\n",
    "# Set pathes to data\n",
    "#data_path = '/Users/tianjiaoqi/Documents/UCBerkeley/W207_Introduction_to_Machine_Learning/FinalProject/Bike-Sharing-Dataset/'\n",
    "data_path = '/Users/tdavid/Documents/GitHub/w207_TimDavid/Final Project/'\n",
    "daily_path = data_path + 'day.csv'\n",
    "hourly_path = data_path + 'hour.csv'"
   ]
  },
  {
   "cell_type": "code",
   "execution_count": 2,
   "metadata": {
    "collapsed": false
   },
   "outputs": [
    {
     "ename": "IOError",
     "evalue": "File /Users/tdavid/Documents/GitHub/w207_TimDavid/Final Project/day.csv does not exist",
     "output_type": "error",
     "traceback": [
      "\u001b[0;31m---------------------------------------------------------------------------\u001b[0m",
      "\u001b[0;31mIOError\u001b[0m                                   Traceback (most recent call last)",
      "\u001b[0;32m<ipython-input-2-68427fba27b6>\u001b[0m in \u001b[0;36m<module>\u001b[0;34m()\u001b[0m\n\u001b[1;32m      1\u001b[0m \u001b[0;31m# Load in data and select variables\u001b[0m\u001b[0;34m\u001b[0m\u001b[0;34m\u001b[0m\u001b[0m\n\u001b[0;32m----> 2\u001b[0;31m \u001b[0mdaily_data\u001b[0m \u001b[0;34m=\u001b[0m \u001b[0mpd\u001b[0m\u001b[0;34m.\u001b[0m\u001b[0mread_csv\u001b[0m\u001b[0;34m(\u001b[0m\u001b[0mdaily_path\u001b[0m\u001b[0;34m)\u001b[0m\u001b[0;34m\u001b[0m\u001b[0m\n\u001b[0m\u001b[1;32m      3\u001b[0m \u001b[0mhourly_data\u001b[0m \u001b[0;34m=\u001b[0m \u001b[0mpd\u001b[0m\u001b[0;34m.\u001b[0m\u001b[0mread_csv\u001b[0m\u001b[0;34m(\u001b[0m\u001b[0mhourly_path\u001b[0m\u001b[0;34m)\u001b[0m\u001b[0;34m\u001b[0m\u001b[0m\n\u001b[1;32m      4\u001b[0m \u001b[0;34m\u001b[0m\u001b[0m\n\u001b[1;32m      5\u001b[0m \u001b[0mdaily_X\u001b[0m \u001b[0;34m=\u001b[0m \u001b[0mdaily_data\u001b[0m\u001b[0;34m[\u001b[0m\u001b[0;34m[\u001b[0m\u001b[0;34m'season'\u001b[0m\u001b[0;34m,\u001b[0m\u001b[0;34m'yr'\u001b[0m\u001b[0;34m,\u001b[0m\u001b[0;34m'mnth'\u001b[0m\u001b[0;34m,\u001b[0m\u001b[0;34m'holiday'\u001b[0m\u001b[0;34m,\u001b[0m\u001b[0;34m'weekday'\u001b[0m\u001b[0;34m,\u001b[0m\u001b[0;34m'workingday'\u001b[0m\u001b[0;34m,\u001b[0m\u001b[0;34m'weathersit'\u001b[0m\u001b[0;34m,\u001b[0m\u001b[0;34m'temp'\u001b[0m\u001b[0;34m,\u001b[0m\u001b[0;34m'atemp'\u001b[0m\u001b[0;34m,\u001b[0m\u001b[0;34m'hum'\u001b[0m\u001b[0;34m,\u001b[0m\u001b[0;34m'windspeed'\u001b[0m\u001b[0;34m]\u001b[0m\u001b[0;34m]\u001b[0m\u001b[0;34m\u001b[0m\u001b[0m\n",
      "\u001b[0;32m/Users/tdavid/anaconda/lib/python2.7/site-packages/pandas/io/parsers.pyc\u001b[0m in \u001b[0;36mparser_f\u001b[0;34m(filepath_or_buffer, sep, dialect, compression, doublequote, escapechar, quotechar, quoting, skipinitialspace, lineterminator, header, index_col, names, prefix, skiprows, skipfooter, skip_footer, na_values, na_fvalues, true_values, false_values, delimiter, converters, dtype, usecols, engine, delim_whitespace, as_recarray, na_filter, compact_ints, use_unsigned, low_memory, buffer_lines, warn_bad_lines, error_bad_lines, keep_default_na, thousands, comment, decimal, parse_dates, keep_date_col, dayfirst, date_parser, memory_map, float_precision, nrows, iterator, chunksize, verbose, encoding, squeeze, mangle_dupe_cols, tupleize_cols, infer_datetime_format, skip_blank_lines)\u001b[0m\n\u001b[1;32m    472\u001b[0m                     skip_blank_lines=skip_blank_lines)\n\u001b[1;32m    473\u001b[0m \u001b[0;34m\u001b[0m\u001b[0m\n\u001b[0;32m--> 474\u001b[0;31m         \u001b[0;32mreturn\u001b[0m \u001b[0m_read\u001b[0m\u001b[0;34m(\u001b[0m\u001b[0mfilepath_or_buffer\u001b[0m\u001b[0;34m,\u001b[0m \u001b[0mkwds\u001b[0m\u001b[0;34m)\u001b[0m\u001b[0;34m\u001b[0m\u001b[0m\n\u001b[0m\u001b[1;32m    475\u001b[0m \u001b[0;34m\u001b[0m\u001b[0m\n\u001b[1;32m    476\u001b[0m     \u001b[0mparser_f\u001b[0m\u001b[0;34m.\u001b[0m\u001b[0m__name__\u001b[0m \u001b[0;34m=\u001b[0m \u001b[0mname\u001b[0m\u001b[0;34m\u001b[0m\u001b[0m\n",
      "\u001b[0;32m/Users/tdavid/anaconda/lib/python2.7/site-packages/pandas/io/parsers.pyc\u001b[0m in \u001b[0;36m_read\u001b[0;34m(filepath_or_buffer, kwds)\u001b[0m\n\u001b[1;32m    248\u001b[0m \u001b[0;34m\u001b[0m\u001b[0m\n\u001b[1;32m    249\u001b[0m     \u001b[0;31m# Create the parser.\u001b[0m\u001b[0;34m\u001b[0m\u001b[0;34m\u001b[0m\u001b[0m\n\u001b[0;32m--> 250\u001b[0;31m     \u001b[0mparser\u001b[0m \u001b[0;34m=\u001b[0m \u001b[0mTextFileReader\u001b[0m\u001b[0;34m(\u001b[0m\u001b[0mfilepath_or_buffer\u001b[0m\u001b[0;34m,\u001b[0m \u001b[0;34m**\u001b[0m\u001b[0mkwds\u001b[0m\u001b[0;34m)\u001b[0m\u001b[0;34m\u001b[0m\u001b[0m\n\u001b[0m\u001b[1;32m    251\u001b[0m \u001b[0;34m\u001b[0m\u001b[0m\n\u001b[1;32m    252\u001b[0m     \u001b[0;32mif\u001b[0m \u001b[0;34m(\u001b[0m\u001b[0mnrows\u001b[0m \u001b[0;32mis\u001b[0m \u001b[0;32mnot\u001b[0m \u001b[0mNone\u001b[0m\u001b[0;34m)\u001b[0m \u001b[0;32mand\u001b[0m \u001b[0;34m(\u001b[0m\u001b[0mchunksize\u001b[0m \u001b[0;32mis\u001b[0m \u001b[0;32mnot\u001b[0m \u001b[0mNone\u001b[0m\u001b[0;34m)\u001b[0m\u001b[0;34m:\u001b[0m\u001b[0;34m\u001b[0m\u001b[0m\n",
      "\u001b[0;32m/Users/tdavid/anaconda/lib/python2.7/site-packages/pandas/io/parsers.pyc\u001b[0m in \u001b[0;36m__init__\u001b[0;34m(self, f, engine, **kwds)\u001b[0m\n\u001b[1;32m    564\u001b[0m             \u001b[0mself\u001b[0m\u001b[0;34m.\u001b[0m\u001b[0moptions\u001b[0m\u001b[0;34m[\u001b[0m\u001b[0;34m'has_index_names'\u001b[0m\u001b[0;34m]\u001b[0m \u001b[0;34m=\u001b[0m \u001b[0mkwds\u001b[0m\u001b[0;34m[\u001b[0m\u001b[0;34m'has_index_names'\u001b[0m\u001b[0;34m]\u001b[0m\u001b[0;34m\u001b[0m\u001b[0m\n\u001b[1;32m    565\u001b[0m \u001b[0;34m\u001b[0m\u001b[0m\n\u001b[0;32m--> 566\u001b[0;31m         \u001b[0mself\u001b[0m\u001b[0;34m.\u001b[0m\u001b[0m_make_engine\u001b[0m\u001b[0;34m(\u001b[0m\u001b[0mself\u001b[0m\u001b[0;34m.\u001b[0m\u001b[0mengine\u001b[0m\u001b[0;34m)\u001b[0m\u001b[0;34m\u001b[0m\u001b[0m\n\u001b[0m\u001b[1;32m    567\u001b[0m \u001b[0;34m\u001b[0m\u001b[0m\n\u001b[1;32m    568\u001b[0m     \u001b[0;32mdef\u001b[0m \u001b[0m_get_options_with_defaults\u001b[0m\u001b[0;34m(\u001b[0m\u001b[0mself\u001b[0m\u001b[0;34m,\u001b[0m \u001b[0mengine\u001b[0m\u001b[0;34m)\u001b[0m\u001b[0;34m:\u001b[0m\u001b[0;34m\u001b[0m\u001b[0m\n",
      "\u001b[0;32m/Users/tdavid/anaconda/lib/python2.7/site-packages/pandas/io/parsers.pyc\u001b[0m in \u001b[0;36m_make_engine\u001b[0;34m(self, engine)\u001b[0m\n\u001b[1;32m    703\u001b[0m     \u001b[0;32mdef\u001b[0m \u001b[0m_make_engine\u001b[0m\u001b[0;34m(\u001b[0m\u001b[0mself\u001b[0m\u001b[0;34m,\u001b[0m \u001b[0mengine\u001b[0m\u001b[0;34m=\u001b[0m\u001b[0;34m'c'\u001b[0m\u001b[0;34m)\u001b[0m\u001b[0;34m:\u001b[0m\u001b[0;34m\u001b[0m\u001b[0m\n\u001b[1;32m    704\u001b[0m         \u001b[0;32mif\u001b[0m \u001b[0mengine\u001b[0m \u001b[0;34m==\u001b[0m \u001b[0;34m'c'\u001b[0m\u001b[0;34m:\u001b[0m\u001b[0;34m\u001b[0m\u001b[0m\n\u001b[0;32m--> 705\u001b[0;31m             \u001b[0mself\u001b[0m\u001b[0;34m.\u001b[0m\u001b[0m_engine\u001b[0m \u001b[0;34m=\u001b[0m \u001b[0mCParserWrapper\u001b[0m\u001b[0;34m(\u001b[0m\u001b[0mself\u001b[0m\u001b[0;34m.\u001b[0m\u001b[0mf\u001b[0m\u001b[0;34m,\u001b[0m \u001b[0;34m**\u001b[0m\u001b[0mself\u001b[0m\u001b[0;34m.\u001b[0m\u001b[0moptions\u001b[0m\u001b[0;34m)\u001b[0m\u001b[0;34m\u001b[0m\u001b[0m\n\u001b[0m\u001b[1;32m    706\u001b[0m         \u001b[0;32melse\u001b[0m\u001b[0;34m:\u001b[0m\u001b[0;34m\u001b[0m\u001b[0m\n\u001b[1;32m    707\u001b[0m             \u001b[0;32mif\u001b[0m \u001b[0mengine\u001b[0m \u001b[0;34m==\u001b[0m \u001b[0;34m'python'\u001b[0m\u001b[0;34m:\u001b[0m\u001b[0;34m\u001b[0m\u001b[0m\n",
      "\u001b[0;32m/Users/tdavid/anaconda/lib/python2.7/site-packages/pandas/io/parsers.pyc\u001b[0m in \u001b[0;36m__init__\u001b[0;34m(self, src, **kwds)\u001b[0m\n\u001b[1;32m   1070\u001b[0m         \u001b[0mkwds\u001b[0m\u001b[0;34m[\u001b[0m\u001b[0;34m'allow_leading_cols'\u001b[0m\u001b[0;34m]\u001b[0m \u001b[0;34m=\u001b[0m \u001b[0mself\u001b[0m\u001b[0;34m.\u001b[0m\u001b[0mindex_col\u001b[0m \u001b[0;32mis\u001b[0m \u001b[0;32mnot\u001b[0m \u001b[0mFalse\u001b[0m\u001b[0;34m\u001b[0m\u001b[0m\n\u001b[1;32m   1071\u001b[0m \u001b[0;34m\u001b[0m\u001b[0m\n\u001b[0;32m-> 1072\u001b[0;31m         \u001b[0mself\u001b[0m\u001b[0;34m.\u001b[0m\u001b[0m_reader\u001b[0m \u001b[0;34m=\u001b[0m \u001b[0m_parser\u001b[0m\u001b[0;34m.\u001b[0m\u001b[0mTextReader\u001b[0m\u001b[0;34m(\u001b[0m\u001b[0msrc\u001b[0m\u001b[0;34m,\u001b[0m \u001b[0;34m**\u001b[0m\u001b[0mkwds\u001b[0m\u001b[0;34m)\u001b[0m\u001b[0;34m\u001b[0m\u001b[0m\n\u001b[0m\u001b[1;32m   1073\u001b[0m \u001b[0;34m\u001b[0m\u001b[0m\n\u001b[1;32m   1074\u001b[0m         \u001b[0;31m# XXX\u001b[0m\u001b[0;34m\u001b[0m\u001b[0;34m\u001b[0m\u001b[0m\n",
      "\u001b[0;32mpandas/parser.pyx\u001b[0m in \u001b[0;36mpandas.parser.TextReader.__cinit__ (pandas/parser.c:3173)\u001b[0;34m()\u001b[0m\n",
      "\u001b[0;32mpandas/parser.pyx\u001b[0m in \u001b[0;36mpandas.parser.TextReader._setup_parser_source (pandas/parser.c:5912)\u001b[0;34m()\u001b[0m\n",
      "\u001b[0;31mIOError\u001b[0m: File /Users/tdavid/Documents/GitHub/w207_TimDavid/Final Project/day.csv does not exist"
     ]
    }
   ],
   "source": [
    "# Load in data and select variables\n",
    "daily_data = pd.read_csv(daily_path)\n",
    "hourly_data = pd.read_csv(hourly_path)\n",
    "\n",
    "daily_X = daily_data[['season','yr','mnth','holiday','weekday','workingday','weathersit','temp','atemp','hum','windspeed']]\n",
    "daily_cnt, daily_casual, daily_registered = daily_data[['cnt']], daily_data[['casual']], daily_data[['registered']]\n",
    "\n",
    "hourly_X = hourly_data[['season','yr','mnth','hr','holiday','weekday','workingday','weathersit','temp','atemp','hum','windspeed']]\n",
    "hourly_cnt, hourly_casual, hourly_registered = hourly_data[['cnt']], hourly_data[['casual']], hourly_data[['registered']]\n",
    "\n",
    "print 'daily X shape:', daily_X.shape\n",
    "print 'daily y shape:', daily_cnt.shape\n",
    "print 'hourly X shape:', hourly_X.shape\n",
    "print 'hourly y shape:', hourly_cnt.shape\n",
    "\n",
    "# Split data into training and testing data (80% train, 20% test)\n",
    "daily_train_X, daily_train_cnt, daily_train_casual, daily_train_registered \\\n",
    "= daily_X[:585], daily_cnt[:585], daily_casual[:585],daily_registered[:585]\n",
    "daily_test_X, daily_test_cnt, daily_test_casual, daily_test_registered \\\n",
    "= daily_X[-146:], daily_cnt[-146:], daily_casual[-146:],daily_registered[-146:]\n",
    "\n",
    "hourly_train_X, hourly_train_cnt, hourly_train_casual, hourly_train_registered \\\n",
    "= hourly_X[:13904], hourly_cnt[:13904], hourly_casual[:13904], hourly_registered[:13904]\n",
    "hourly_test_X, hourly_test_cnt, hourly_test_casual, hourly_test_registered \\\n",
    "= hourly_X[-3475:], hourly_cnt[-3475:], hourly_casual[-3475:], hourly_registered[-3475:]\n",
    "\n",
    "print 'daily train X shape:', daily_train_X.shape\n",
    "print 'daily test X shape:', daily_test_X.shape\n",
    "print 'hourly train X shape:', hourly_train_X.shape\n",
    "print 'hourly test X shape:', hourly_test_X.shape"
   ]
  },
  {
   "cell_type": "code",
   "execution_count": 30,
   "metadata": {
    "collapsed": false
   },
   "outputs": [
    {
     "name": "stdout",
     "output_type": "stream",
     "text": [
      "Daily data predicting total count:\n",
      "Coefficients: \n",
      "[[  296.41065098  2029.31441602    27.86155032  -375.25815253\n",
      "     45.78506018    70.46160976  -502.69904618  -641.66976487\n",
      "   6309.16194357 -1010.35711168 -2243.59684665]]\n",
      "Residual sum of squares: 1367297.58\n",
      "R-squared: 0.61\n",
      "\n",
      "Daily data predicting casual count:\n",
      "Coefficients: \n",
      "[[   47.61800943   280.02577655   -11.01262247  -223.01487209\n",
      "     18.11031724  -799.3919419    -99.15141536  -257.27046488\n",
      "   2455.52900149  -377.54168809  -871.78962617]]\n",
      "Residual sum of squares: 158317.20\n",
      "R-squared: 0.68\n",
      "\n",
      "Daily data predicting casual count:\n",
      "Coefficients: \n",
      "[[  248.79264154  1749.28863947    38.87417279  -152.24328044\n",
      "     27.67474294   869.85355165  -403.54763082  -384.39929999\n",
      "   3853.63294208  -632.81542359 -1371.80722048]]\n",
      "Residual sum of squares: 1026218.07\n",
      "R-squared: 0.59\n",
      "\n",
      "Hourly data predicting total count:\n",
      "Coefficients: \n",
      "[[   8.25532284   76.79238374    2.50427247    7.24885986  -21.15897739\n",
      "     1.25586003    0.82112051   -5.29754299   80.11089244  214.36987082\n",
      "  -168.7708722    33.3574378 ]]\n",
      "Residual sum of squares: 33600.43\n",
      "R-squared: 0.31\n",
      "\n",
      "Hourly data predicting casual count:\n",
      "Coefficients: \n",
      "[[  4.72612569e-01   9.00579129e+00   2.46476440e-02   1.22637216e+00\n",
      "   -1.14117542e+01   5.48502409e-01  -3.42760805e+01   1.03801045e+00\n",
      "    4.49970436e+01   6.62741567e+01  -5.86441637e+01   1.21307302e+00]]\n",
      "Residual sum of squares: 1757.55\n",
      "R-squared: 0.44\n",
      "\n",
      "Hourly data predicting casual count:\n",
      "Coefficients: \n",
      "[[   7.78271028   67.78659245    2.47962483    6.0224877    -9.74722318\n",
      "     0.70735762   35.097201     -6.33555344   35.11384879  148.09571413\n",
      "  -110.12670845   32.14436478]]\n",
      "Residual sum of squares: 26455.95\n",
      "R-squared: 0.25\n"
     ]
    }
   ],
   "source": [
    "# Fit linear regression model with training data\n",
    "lr = LinearRegression(fit_intercept=True)\n",
    "\n",
    "# Model 1: daily data predicting total count\n",
    "lr.fit(daily_train_X, daily_train_cnt)\n",
    "print 'Daily data predicting total count:'\n",
    "print 'Coefficients: \\n', lr.coef_\n",
    "print (\"Residual sum of squares: %.2f\" % np.mean((lr.predict(daily_test_X) - daily_test_cnt) ** 2))\n",
    "print ('R-squared: %.2f' % lr.score(daily_test_X, daily_test_cnt))\n",
    "\n",
    "# Model 2: daily data predicting casual count\n",
    "lr.fit(daily_train_X, daily_train_casual)\n",
    "print '\\nDaily data predicting casual count:'\n",
    "print 'Coefficients: \\n', lr.coef_\n",
    "print (\"Residual sum of squares: %.2f\" % np.mean((lr.predict(daily_test_X) - daily_test_casual) ** 2))\n",
    "print ('R-squared: %.2f' % lr.score(daily_test_X, daily_test_casual))\n",
    "\n",
    "# Model 3: daily data predicting registered count\n",
    "lr.fit(daily_train_X, daily_train_registered)\n",
    "print '\\nDaily data predicting casual count:'\n",
    "print 'Coefficients: \\n', lr.coef_\n",
    "print (\"Residual sum of squares: %.2f\" % np.mean((lr.predict(daily_test_X) - daily_test_registered) ** 2))\n",
    "print ('R-squared: %.2f' % lr.score(daily_test_X, daily_test_registered))\n",
    "\n",
    "# Model 4: hourly data predicting total count\n",
    "lr.fit(hourly_train_X, hourly_train_cnt)\n",
    "print '\\nHourly data predicting total count:'\n",
    "print 'Coefficients: \\n', lr.coef_\n",
    "print (\"Residual sum of squares: %.2f\" % np.mean((lr.predict(hourly_test_X) - hourly_test_cnt) ** 2))\n",
    "print ('R-squared: %.2f' % lr.score(hourly_test_X, hourly_test_cnt))\n",
    "\n",
    "# Model 5: hourly data predicting casual count\n",
    "lr.fit(hourly_train_X, hourly_train_casual)\n",
    "print '\\nHourly data predicting casual count:'\n",
    "print 'Coefficients: \\n', lr.coef_\n",
    "print (\"Residual sum of squares: %.2f\" % np.mean((lr.predict(hourly_test_X) - hourly_test_casual) ** 2))\n",
    "print ('R-squared: %.2f' % lr.score(hourly_test_X, hourly_test_casual))\n",
    "\n",
    "# Model 6: hourly data predicting registered count\n",
    "lr.fit(hourly_train_X, hourly_train_registered)\n",
    "print '\\nHourly data predicting casual count:'\n",
    "print 'Coefficients: \\n', lr.coef_\n",
    "print (\"Residual sum of squares: %.2f\" % np.mean((lr.predict(hourly_test_X) - hourly_test_registered) ** 2))\n",
    "print ('R-squared: %.2f' % lr.score(hourly_test_X, hourly_test_registered))"
   ]
  }
 ],
 "metadata": {
  "kernelspec": {
   "display_name": "Python 2",
   "language": "python",
   "name": "python2"
  },
  "language_info": {
   "codemirror_mode": {
    "name": "ipython",
    "version": 2
   },
   "file_extension": ".py",
   "mimetype": "text/x-python",
   "name": "python",
   "nbconvert_exporter": "python",
   "pygments_lexer": "ipython2",
   "version": "2.7.10"
  }
 },
 "nbformat": 4,
 "nbformat_minor": 0
}
