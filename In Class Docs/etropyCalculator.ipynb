{
 "cells": [
  {
   "cell_type": "code",
   "execution_count": 24,
   "metadata": {
    "collapsed": true
   },
   "outputs": [],
   "source": [
    "import numpy as np\n",
    "def calc_entropy (P, base):\n",
    "    logP = None\n",
    "    if base == \"2\":\n",
    "        logP = np.log2(P)\n",
    "    elif base == \"10\":\n",
    "        logP = np.log10(P)\n",
    "    elif base == \"e\":\n",
    "        logP = np.log(P)\n",
    "    print P\n",
    "    print logP\n",
    "    print P*logP\n",
    "    return -sum (P*logP)"
   ]
  },
  {
   "cell_type": "code",
   "execution_count": 27,
   "metadata": {
    "collapsed": false
   },
   "outputs": [
    {
     "name": "stdout",
     "output_type": "stream",
     "text": [
      "(0.1, 0.2, 0.7)\n",
      "[-3.32192809 -2.32192809 -0.51457317]\n",
      "[-0.33219281 -0.46438562 -0.36020122]\n"
     ]
    },
    {
     "data": {
      "text/plain": [
       "1.1567796494470395"
      ]
     },
     "execution_count": 27,
     "metadata": {},
     "output_type": "execute_result"
    }
   ],
   "source": [
    "P = (0.1, 0.2, 0.7)\n",
    "calc_entropy(P, base=\"2\")"
   ]
  },
  {
   "cell_type": "code",
   "execution_count": 28,
   "metadata": {
    "collapsed": false
   },
   "outputs": [
    {
     "name": "stdout",
     "output_type": "stream",
     "text": [
      "(0.1, 0.2, 0.7)\n",
      "[-1.         -0.69897    -0.15490196]\n",
      "[-0.1        -0.139794   -0.10843137]\n"
     ]
    },
    {
     "data": {
      "text/plain": [
       "0.34822537285722399"
      ]
     },
     "execution_count": 28,
     "metadata": {},
     "output_type": "execute_result"
    }
   ],
   "source": [
    "P = (0.1, 0.2, 0.7)\n",
    "calc_entropy(P, base=\"10\")"
   ]
  },
  {
   "cell_type": "code",
   "execution_count": 29,
   "metadata": {
    "collapsed": false
   },
   "outputs": [
    {
     "name": "stdout",
     "output_type": "stream",
     "text": [
      "(0.1, 0.2, 0.7)\n",
      "[-2.30258509 -1.60943791 -0.35667494]\n",
      "[-0.23025851 -0.32188758 -0.24967246]\n"
     ]
    },
    {
     "data": {
      "text/plain": [
       "0.80181855254333734"
      ]
     },
     "execution_count": 29,
     "metadata": {},
     "output_type": "execute_result"
    }
   ],
   "source": [
    "P = (0.1, 0.2, 0.7)\n",
    "calc_entropy(P, base=\"e\")"
   ]
  }
 ],
 "metadata": {
  "kernelspec": {
   "display_name": "Python 2",
   "language": "python",
   "name": "python2"
  },
  "language_info": {
   "codemirror_mode": {
    "name": "ipython",
    "version": 2
   },
   "file_extension": ".py",
   "mimetype": "text/x-python",
   "name": "python",
   "nbconvert_exporter": "python",
   "pygments_lexer": "ipython2",
   "version": "2.7.9"
  }
 },
 "nbformat": 4,
 "nbformat_minor": 0
}
