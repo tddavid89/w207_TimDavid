{
 "cells": [
  {
   "cell_type": "markdown",
   "metadata": {},
   "source": [
    "# Project 3: Poisonous mushrooms"
   ]
  },
  {
   "cell_type": "markdown",
   "metadata": {},
   "source": [
    "In this project, you'll investigate properties of mushrooms. This classic dataset contains over 8000 observations, where each mushroom is described by a variety of features like color, odor, etc., and the target variable is an indicator for whether the mushroom is poisonous. Since all the observations are categorical, I've binarized the feature space. Look at the feature_names below to see all 126 binary names.\n",
    "\n",
    "You'll start by running PCA to reduce the dimensionality from 126 down to 2 so that you can easily visualize the data. In general, PCA is very useful for visualization (though sklearn.manifold.tsne is known to produce better visualizations). Recall that PCA is a linear transformation. The 1st projected dimension is the linear combination of all 126 original features that captures as much of the variance in the data as possible. The 2nd projected dimension is the linear combination of all 126 original features that captures as much of the remaining variance as possible. The idea of dense low dimensional representations is crucial to machine learning!\n",
    "\n",
    "Once you've projected the data to 2 dimensions, you'll experiment with clustering using KMeans and density estimation with Gaussian Mixture Models. Finally, you'll train a classifier by fitting a GMM for the positive class and a GMM for the negative class, and perform inference by comparing the probabilities output by each model.\n",
    "\n",
    "As always, you're welcome to work on the project in groups and discuss ideas on the course wall, but please prepare your own write-up and write your own code."
   ]
  },
  {
   "cell_type": "code",
   "execution_count": 1,
   "metadata": {
    "collapsed": false
   },
   "outputs": [],
   "source": [
    "%matplotlib inline\n",
    "\n",
    "import numpy as np\n",
    "import matplotlib.pyplot as plt\n",
    "from sklearn import metrics\n",
    "from sklearn.decomposition import PCA\n",
    "from sklearn.cluster import KMeans\n",
    "from sklearn.mixture import GMM\n",
    "from matplotlib.colors import LogNorm"
   ]
  },
  {
   "cell_type": "markdown",
   "metadata": {},
   "source": [
    "Load feature names."
   ]
  },
  {
   "cell_type": "code",
   "execution_count": 2,
   "metadata": {
    "collapsed": false
   },
   "outputs": [
    {
     "name": "stdout",
     "output_type": "stream",
     "text": [
      "Loaded feature names: 126\n"
     ]
    }
   ],
   "source": [
    "feature_names = []\n",
    "with open('/Users/tdavid/Documents/GitHub/w207_TimDavid/Data/mushroom.map') as fmap:\n",
    "    for line in fmap:\n",
    "        [index, name, junk] = line.split()\n",
    "        feature_names.append(name)\n",
    "\n",
    "print 'Loaded feature names:', len(feature_names)"
   ]
  },
  {
   "cell_type": "markdown",
   "metadata": {},
   "source": [
    "Load data. The data is sparse in the input file, but there aren't too many features, so we'll use a dense representation, which is supported by all sklearn objects."
   ]
  },
  {
   "cell_type": "code",
   "execution_count": 3,
   "metadata": {
    "collapsed": false
   },
   "outputs": [
    {
     "name": "stdout",
     "output_type": "stream",
     "text": [
      "(7000, 126) (1124, 126)\n"
     ]
    }
   ],
   "source": [
    "X, Y = [], []\n",
    "\n",
    "with open('/Users/tdavid/Documents/GitHub/w207_TimDavid/Data/mushroom.data') as fdata:\n",
    "    for line in fdata:\n",
    "        items = line.split()\n",
    "        Y.append(int(items.pop(0)))\n",
    "        x = np.zeros(len(feature_names))\n",
    "        for item in items:\n",
    "            feature = int(item.split(':')[0])\n",
    "            x[feature] = 1\n",
    "        X.append(x)\n",
    "\n",
    "# Convert these lists to numpy arrays.\n",
    "X = np.array(X)\n",
    "Y = np.array(Y)\n",
    "\n",
    "# Split into train and test data.\n",
    "train_data, train_labels = X[:7000], Y[:7000]\n",
    "test_data, test_labels = X[7000:], Y[7000:]\n",
    "\n",
    "# Check that the shapes look right.\n",
    "print train_data.shape, test_data.shape"
   ]
  },
  {
   "cell_type": "markdown",
   "metadata": {},
   "source": [
    "(1) Run Principal Components Analysis on the data. Show what fraction of the total variance in the training data is explained by the first k principal components, for k in [1, 50]."
   ]
  },
  {
   "cell_type": "code",
   "execution_count": 4,
   "metadata": {
    "collapsed": false
   },
   "outputs": [],
   "source": [
    "#def P1():\n",
    "### STUDENT START ###\n",
    "\n",
    "### STUDENT END ###\n",
    "\n",
    "#P1()"
   ]
  },
  {
   "cell_type": "code",
   "execution_count": 5,
   "metadata": {
    "collapsed": false
   },
   "outputs": [
    {
     "name": "stdout",
     "output_type": "stream",
     "text": [
      "k =  1 , explained variance =  0.164\n",
      "k =  2 , explained variance =  0.297\n",
      "k =  3 , explained variance =  0.399\n",
      "k =  4 , explained variance =  0.47\n",
      "k =  5 , explained variance =  0.508\n",
      "k =  6 , explained variance =  0.545\n",
      "k =  7 , explained variance =  0.576\n",
      "k =  8 , explained variance =  0.604\n",
      "k =  9 , explained variance =  0.63\n",
      "k =  10 , explained variance =  0.652\n",
      "k =  11 , explained variance =  0.673\n",
      "k =  12 , explained variance =  0.691\n",
      "k =  13 , explained variance =  0.709\n",
      "k =  14 , explained variance =  0.726\n",
      "k =  15 , explained variance =  0.741\n",
      "k =  16 , explained variance =  0.756\n",
      "k =  17 , explained variance =  0.77\n",
      "k =  18 , explained variance =  0.784\n",
      "k =  19 , explained variance =  0.798\n",
      "k =  20 , explained variance =  0.809\n",
      "k =  21 , explained variance =  0.82\n",
      "k =  22 , explained variance =  0.83\n",
      "k =  23 , explained variance =  0.841\n",
      "k =  24 , explained variance =  0.851\n",
      "k =  25 , explained variance =  0.86\n",
      "k =  26 , explained variance =  0.868\n",
      "k =  27 , explained variance =  0.876\n",
      "k =  28 , explained variance =  0.884\n",
      "k =  29 , explained variance =  0.892\n",
      "k =  30 , explained variance =  0.899\n",
      "k =  31 , explained variance =  0.905\n",
      "k =  32 , explained variance =  0.911\n",
      "k =  33 , explained variance =  0.917\n",
      "k =  34 , explained variance =  0.922\n",
      "k =  35 , explained variance =  0.927\n",
      "k =  36 , explained variance =  0.932\n",
      "k =  37 , explained variance =  0.937\n",
      "k =  38 , explained variance =  0.942\n",
      "k =  39 , explained variance =  0.947\n",
      "k =  40 , explained variance =  0.951\n",
      "k =  41 , explained variance =  0.955\n",
      "k =  42 , explained variance =  0.959\n",
      "k =  43 , explained variance =  0.963\n",
      "k =  44 , explained variance =  0.966\n",
      "k =  45 , explained variance =  0.97\n",
      "k =  46 , explained variance =  0.973\n",
      "k =  47 , explained variance =  0.975\n",
      "k =  48 , explained variance =  0.978\n",
      "k =  49 , explained variance =  0.98\n",
      "k =  50 , explained variance =  0.982\n"
     ]
    }
   ],
   "source": [
    "var_list = list()\n",
    "k_val = list()\n",
    "for i in range(1,51):\n",
    "    pca_range = PCA(n_components = i)\n",
    "    x_pca_range = pca_range.fit_transform(train_data)\n",
    "    a = pca_range.explained_variance_ratio_.sum()\n",
    "    print \"k = \" , i , \", explained variance = \" , round(a,3)\n",
    "    var_list.append(a)\n",
    "    k_val.append(i)"
   ]
  },
  {
   "cell_type": "code",
   "execution_count": 6,
   "metadata": {
    "collapsed": false
   },
   "outputs": [
    {
     "data": {
      "image/png": "[encoded data removed]",
      "text/plain": [
       "<matplotlib.figure.Figure at 0x1043f38d0>"
      ]
     },
     "metadata": {},
     "output_type": "display_data"
    }
   ],
   "source": [
    "#plt.plot(k_val, var_list)\n",
    "#plt.show()\n",
    "\n",
    "plt.scatter(k_val, var_list)\n",
    "plt.show()"
   ]
  },
  {
   "cell_type": "markdown",
   "metadata": {},
   "source": [
    "(2) PCA can be very useful for visualizing data. Project the training data down to 2 dimensions and plot it. Show the positive (poisonous) cases in blue and the negative (non-poisonous) in red. Here's a reference for plotting: http://matplotlib.org/users/pyplot_tutorial.html"
   ]
  },
  {
   "cell_type": "code",
   "execution_count": 7,
   "metadata": {
    "collapsed": false
   },
   "outputs": [],
   "source": [
    "#def P2():\n",
    "### STUDENT START ###\n",
    "\n",
    "### STUDENT END ###\n",
    "\n",
    "#P2()"
   ]
  },
  {
   "cell_type": "code",
   "execution_count": 8,
   "metadata": {
    "collapsed": false
   },
   "outputs": [
    {
     "data": {
      "image/png": "[encoded data removed]",
      "text/plain": [
       "<matplotlib.figure.Figure at 0x10bb93690>"
      ]
     },
     "metadata": {},
     "output_type": "display_data"
    }
   ],
   "source": [
    "#from sklearn.decomposition import PCA\n",
    "pca_2c = PCA(n_components=2)\n",
    "X_pca_2c = pca_2c.fit_transform(train_data)\n",
    "X_pca_2c.shape\n",
    "plt.scatter(X_pca_2c[:,0], X_pca_2c[:,1], c=train_labels, alpha=0.8, edgecolors='none')\n",
    "plt.show()\n",
    "#pca_2c.explained_variance_ratio_.sum()"
   ]
  },
  {
   "cell_type": "markdown",
   "metadata": {},
   "source": [
    "(3) Run KMeans with [1,16] clusters over the 2d projected data. Mark each centroid cluster and plot a circle that goes through the most distant point assigned to each cluster."
   ]
  },
  {
   "cell_type": "code",
   "execution_count": 9,
   "metadata": {
    "collapsed": false
   },
   "outputs": [],
   "source": [
    "#def P3():\n",
    "### STUDENT START ###\n",
    "\n",
    "### STUDENT END ###\n",
    "\n",
    "#P3()"
   ]
  },
  {
   "cell_type": "code",
   "execution_count": 10,
   "metadata": {
    "collapsed": false
   },
   "outputs": [
    {
     "data": {
      "image/png": "[encoded data removed]",
      "text/plain": [
       "<matplotlib.figure.Figure at 0x10bb8b7d0>"
      ]
     },
     "metadata": {},
     "output_type": "display_data"
    }
   ],
   "source": [
    "K_dataset_1 = 2\n",
    "km_1 = KMeans(n_clusters=K_dataset_1)\n",
    "labels_1 = km_1.fit(train_data).labels_\n",
    "plt.scatter(train_data[:,0], train_data[:,1], c=labels_1, alpha=0.8, s=5.0, lw = 0)\n",
    "plt.scatter(km_1.cluster_centers_[:,0], km_1.cluster_centers_[:,1], s=100, c=np.unique(labels_1), lw=0.2)\n",
    "plt.show()"
   ]
  },
  {
   "cell_type": "markdown",
   "metadata": {},
   "source": [
    "\n",
    "\n",
    "(4) Fit a Gaussian Mixture Model for the positive examples in your 2d projected data. Plot the estimated density contours as shown here: http://scikit-learn.org/stable/auto_examples/mixture/plot_gmm_pdf.html#example-mixture-plot-gmm-pdf-py. Vary the number of mixture components from 1-4 and the covariance matrix type ('spherical', 'diag', 'tied', 'full')."
   ]
  },
  {
   "cell_type": "code",
   "execution_count": 11,
   "metadata": {
    "collapsed": false
   },
   "outputs": [],
   "source": [
    "#def P4():\n",
    "### STUDENT START ###\n",
    "\n",
    "### STUDENT END ###\n",
    "\n",
    "#P4()"
   ]
  },
  {
   "cell_type": "code",
   "execution_count": 29,
   "metadata": {
    "collapsed": false
   },
   "outputs": [
    {
     "data": {
      "text/plain": [
       "<matplotlib.collections.PathCollection at 0x10bb7afd0>"
      ]
     },
     "execution_count": 29,
     "metadata": {},
     "output_type": "execute_result"
    },
    {
     "data": {
      "image/png": "[encoded data removed]",
      "text/plain": [
       "<matplotlib.figure.Figure at 0x10bcab190>"
      ]
     },
     "metadata": {},
     "output_type": "display_data"
    }
   ],
   "source": [
    "np.random.seed(1)\n",
    "gm = GMM(n_components=2) \n",
    "gm.fit(train_data)\n",
    "\n",
    "#train_data.shape\n",
    "plt.scatter(train_data[:, 0], train_data[:, 1],.8)\n",
    "\n",
    "\n",
    "# display predicted scores by the model as a contour plot\n",
    "#x = np.linspace(-20.0, 30.0)\n",
    "#y = np.linspace(-20.0, 40.0)\n",
    "#X, Y = np.meshgrid(x, y)\n",
    "#XX = np.array([X.ravel(), Y.ravel()]).T\n",
    "#Z = -gm.score_samples(XX)[0]\n",
    "#Z = Z.reshape(X.shape)\n",
    "\n",
    "#CS = plt.contour(X, Y, Z, norm=LogNorm(vmin=1.0, vmax=1000.0),\n",
    "#                 levels=np.logspace(0, 3, 10))\n",
    "#CB = plt.colorbar(CS, shrink=0.8, extend='both')\n",
    "#plt.scatter(train_data[:, 0], train_data[:, 1], .8)\n",
    "\n",
    "#plt.title('Negative log-likelihood predicted by a GMM')\n",
    "#plt.axis('tight')\n",
    "#plt.show()\n"
   ]
  },
  {
   "cell_type": "markdown",
   "metadata": {},
   "source": [
    "(5) Fit two 4-component full covariance GMMs, one for the positive examples and one for the negative examples in your 2d projected data. Predict the test examples by choosing the label for which the model gives a larger probability (use GMM.score). What is the accuracy?"
   ]
  },
  {
   "cell_type": "code",
   "execution_count": 12,
   "metadata": {
    "collapsed": false
   },
   "outputs": [],
   "source": [
    "#def P5():\n",
    "### STUDENT START ###\n",
    "\n",
    "### STUDENT END ###\n",
    "\n",
    "#P5()"
   ]
  },
  {
   "cell_type": "markdown",
   "metadata": {},
   "source": [
    "(6) Ideally, we'd like a model that gives the best accuracy with the fewest parameters. Run a series of experiments to find the model that gives the best accuracy with no more than 50 parameters. For example, with 3 PCA components and 2-component diagonal covariance GMMs, you'd have:\n",
    "\n",
    "( (3 mean vector + 3 covariance matrix) x 2 components ) x 2 classes = 24 parameters\n",
    "\n",
    "You should vary the number of PCA components, the number of GMM components, and the covariance type."
   ]
  },
  {
   "cell_type": "code",
   "execution_count": 13,
   "metadata": {
    "collapsed": false
   },
   "outputs": [],
   "source": [
    "#def P6():\n",
    "### STUDENT START ###\n",
    "\n",
    "### STUDENT END ###\n",
    "\n",
    "#P6()"
   ]
  },
  {
   "cell_type": "code",
   "execution_count": null,
   "metadata": {
    "collapsed": true
   },
   "outputs": [],
   "source": []
  }
 ],
 "metadata": {
  "kernelspec": {
   "display_name": "Python 2",
   "language": "python",
   "name": "python2"
  },
  "language_info": {
   "codemirror_mode": {
    "name": "ipython",
    "version": 2
   },
   "file_extension": ".py",
   "mimetype": "text/x-python",
   "name": "python",
   "nbconvert_exporter": "python",
   "pygments_lexer": "ipython2",
   "version": "2.7.10"
  }
 },
 "nbformat": 4,
 "nbformat_minor": 0
}
